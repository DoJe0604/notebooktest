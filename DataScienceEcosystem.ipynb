{
 "cells": [
  {
   "cell_type": "markdown",
   "id": "2225032e-464d-4e2e-b93f-d45ae2ba9e27",
   "metadata": {},
   "source": [
    "# Data Science Tools and Ecosystem"
   ]
  },
  {
   "cell_type": "markdown",
   "id": "95161894-15ac-42bf-b9aa-03da336ac356",
   "metadata": {},
   "source": [
    "In this notebook, Data Science Tools and Ecosystem are summarized."
   ]
  },
  {
   "cell_type": "markdown",
   "id": "933d4a54-5346-43c3-93e6-19ea57c6d4b6",
   "metadata": {},
   "source": [
    "**Objectives:**\n",
    "\n",
    "- List popular languages for Data Science\n",
    "- Identify commonly used libraries in Data Science\n",
    "- Understand basic arithmetic operations in Python\n",
    "- Convert time units using Python expressions\n",
    "- Gain familiarity with development environment tools for Data Science\n"
   ]
  },
  {
   "cell_type": "markdown",
   "id": "7131878e-9060-4571-aeb8-aa8a52fe66c4",
   "metadata": {},
   "source": [
    "Some of the popular languages that Data Scientists use are:\r\n",
    "\r\n",
    "1. **Python**: Known for its simplicity and readability, Python is widely used for data analysis, machine learning, and statistical computing. It boasts a rich ecosystem of libraries like Pandas, NumPy, and Scikit-learn.\r\n",
    "2. **R**: This language is specifically designed for statistical analysis and data visualization. It has numerous packages, such as ggplot2 and dplyr, that make data manipulation and visualization straightforward.\r\n",
    "3. **SQL**: Essential for data manipulation and querying databases, SQL is crucial for extracting, updating, and managing data stored in relational databases.\r\n"
   ]
  },
  {
   "cell_type": "markdown",
   "id": "565954e1-d43d-4382-b5c1-548f9545c224",
   "metadata": {},
   "source": [
    "Some of the commonly used libraries used by Data Scientists include:\r\n",
    "\r\n",
    "1. **Pandas**: A powerful library for data manipulation and analysis, offering data structures like DataFrames.\r\n",
    "2. **NumPy**: Essential for numerical computing, providing support for large, multi-dimensional arrays and matrices.\r\n",
    "3. **Scikit-learn**: A popular library for machine learning, offering simple and efficient tools for data mining and data analysis.\r\n",
    "4. **Matplotlib**: Used for creating static, interactive, and animated visualizations in Python.\r\n",
    "5. **TensorFlow**: An open-source platform for machine learning, widely used for deep learning tasks.\r\n"
   ]
  },
  {
   "cell_type": "markdown",
   "id": "a2c0c767-cf91-4fc7-8def-b4e9cad6dff2",
   "metadata": {},
   "source": [
    "| Data Science Tools       |\n",
    "|--------------------------|\n",
    "| Jupyter Notebooks        |\n",
    "| RStudio                  |\n",
    "| Apache Zeppelin          |\n"
   ]
  },
  {
   "cell_type": "markdown",
   "id": "24d7cf70-befb-43e7-a85d-3f29f9ea184e",
   "metadata": {},
   "source": [
    "### Below are a few examples of evaluating arithmetic expressions in Python."
   ]
  },
  {
   "cell_type": "code",
   "execution_count": 8,
   "id": "cbf57831-67e0-419d-ad08-4619cd673cd1",
   "metadata": {},
   "outputs": [
    {
     "data": {
      "text/plain": [
       "17"
      ]
     },
     "execution_count": 8,
     "metadata": {},
     "output_type": "execute_result"
    }
   ],
   "source": [
    "# This is a simple arithmetic expression to multiply then add integers\n",
    "result = (3 * 4) + 5\n",
    "result"
   ]
  },
  {
   "cell_type": "code",
   "execution_count": 10,
   "id": "f2dfc44f-6dd9-4e44-9fcc-30035e3bf250",
   "metadata": {},
   "outputs": [
    {
     "data": {
      "text/plain": [
       "3.3333333333333335"
      ]
     },
     "execution_count": 10,
     "metadata": {},
     "output_type": "execute_result"
    }
   ],
   "source": [
    "# This will convert 200 minutes to hours by dividing by 60\n",
    "hours = 200 / 60\n",
    "hours"
   ]
  },
  {
   "cell_type": "markdown",
   "id": "030263f1-005f-4a0d-9738-86e4532bac6b",
   "metadata": {},
   "source": [
    "## Author\n",
    "JEFFERY"
   ]
  },
  {
   "cell_type": "code",
   "execution_count": null,
   "id": "93f5ce29-0274-44cb-977f-7c9235f8164e",
   "metadata": {},
   "outputs": [],
   "source": []
  }
 ],
 "metadata": {
  "kernelspec": {
   "display_name": "anaconda-ai-2024.04-py310",
   "language": "python",
   "name": "conda-env-anaconda-ai-2024.04-py310-py"
  },
  "language_info": {
   "codemirror_mode": {
    "name": "ipython",
    "version": 3
   },
   "file_extension": ".py",
   "mimetype": "text/x-python",
   "name": "python",
   "nbconvert_exporter": "python",
   "pygments_lexer": "ipython3",
   "version": "3.10.13"
  }
 },
 "nbformat": 4,
 "nbformat_minor": 5
}
